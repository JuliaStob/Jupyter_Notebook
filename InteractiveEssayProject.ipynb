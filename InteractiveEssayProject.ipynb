{
  "nbformat": 4,
  "nbformat_minor": 0,
  "metadata": {
    "colab": {
      "provenance": []
    },
    "kernelspec": {
      "name": "python3",
      "display_name": "Python 3"
    },
    "language_info": {
      "name": "python"
    }
  },
  "cells": [
    {
      "cell_type": "markdown",
      "source": [
        "# <font color = 'lightblue'> **Lexical Analysis of _Wikipedia's_ and _Google Cloud's_ Articles on 'Artificial Intelligence'**\n",
        "\n"
      ],
      "metadata": {
        "id": "fui0iImXjysL"
      }
    },
    {
      "cell_type": "markdown",
      "source": [
        "<img src=\"https://upload.wikimedia.org/wikipedia/commons/thumb/6/64/Dall-e_3_%28jan_%2724%29_artificial_intelligence_icon.png/800px-Dall-e_3_%28jan_%2724%29_artificial_intelligence_icon.png\" width=\"500\">\n",
        "\n",
        "\n"
      ],
      "metadata": {
        "id": "ADKPwXiUlmwf"
      }
    },
    {
      "cell_type": "markdown",
      "source": [
        "In this notebook, I am performing a simple lexical analysis of how two different sources, _Wikipedia_ and _Google Cloud_, write about **Artificial Intelligence**.\n",
        "\n",
        "The purpose is to see how language choices might reflect different purposes or audiences of these platforms.\n",
        "\n",
        "While _Wikipedia_ is community-edited and more expansive, _Google Cloud_ is professionally curated and tends to be more concise and explanatory.\n",
        "\n",
        "This notebook includes:\n",
        "- Extracting text from the websites using _BeautifulSoup_,\n",
        "- Basic text processing with **NLTK**,\n",
        "- Basic Python coding,\n",
        "- and, of course, some Markdown formatting practice. 😸"
      ],
      "metadata": {
        "id": "8P3UAxkSknOF"
      }
    },
    {
      "cell_type": "markdown",
      "source": [
        "**<font color='lightblue'>Important Info</font>**\n",
        "\n",
        "The last update of this notebook was on June 16th 2025. The content of those websites may change overtime and thus the results may not be up-to-date anymore."
      ],
      "metadata": {
        "id": "mILzmaPD6uhG"
      }
    },
    {
      "cell_type": "markdown",
      "source": [
        "##<font color = 'lightblue'> _Wikipedia_"
      ],
      "metadata": {
        "id": "BFIRScHYgeUs"
      }
    },
    {
      "cell_type": "markdown",
      "source": [
        "Before I use it for scraping the website, I must import _BeautifulSoup_."
      ],
      "metadata": {
        "id": "53uOsU0rglDL"
      }
    },
    {
      "cell_type": "code",
      "source": [
        "import requests\n",
        "\n",
        "from bs4 import BeautifulSoup\n",
        "\n",
        "import matplotlib.pyplot as plt"
      ],
      "metadata": {
        "id": "3-FPocMWovYd"
      },
      "execution_count": 1,
      "outputs": []
    },
    {
      "cell_type": "markdown",
      "source": [
        "Now I can move on to the actual scraping."
      ],
      "metadata": {
        "id": "QBmFX08ylRYp"
      }
    },
    {
      "cell_type": "code",
      "execution_count": 2,
      "metadata": {
        "id": "Vqc2VkYLjtjG"
      },
      "outputs": [],
      "source": [
        "#Cooking the soup\n",
        "page1 = requests.get(\"https://en.wikipedia.org/wiki/Artificial_intelligence\")\n",
        "\n",
        "\n",
        "soup1 = BeautifulSoup(page1.content, 'html.parser')\n",
        "\n",
        "#Extracting paragraphs\n",
        "paras1 = soup1.find_all('p')\n",
        "\n",
        "#Cleaning the text\n",
        "only_text1 = []\n",
        "for el in paras1:\n",
        "  if len(el.getText().strip()) > 0:\n",
        "    only_text1.append(el.getText())\n",
        "\n",
        "text1 = \" \".join(only_text1)"
      ]
    },
    {
      "cell_type": "markdown",
      "source": [
        "Now that we have our text cleaned, we can use NLTK to process it! But first, of course, **import**."
      ],
      "metadata": {
        "id": "GF3XNXQnm8pJ"
      }
    },
    {
      "cell_type": "code",
      "source": [
        "import nltk\n",
        "from nltk.tokenize import word_tokenize\n",
        "import string\n",
        "\n",
        "nltk.download('punkt_tab')"
      ],
      "metadata": {
        "colab": {
          "base_uri": "https://localhost:8080/"
        },
        "id": "yeNxajAKpB_Z",
        "outputId": "43ba0460-dce5-442f-cc18-d8be29e2684a"
      },
      "execution_count": 3,
      "outputs": [
        {
          "output_type": "stream",
          "name": "stderr",
          "text": [
            "[nltk_data] Downloading package punkt_tab to /root/nltk_data...\n",
            "[nltk_data]   Unzipping tokenizers/punkt_tab.zip.\n"
          ]
        },
        {
          "output_type": "execute_result",
          "data": {
            "text/plain": [
              "True"
            ]
          },
          "metadata": {},
          "execution_count": 3
        }
      ]
    },
    {
      "cell_type": "markdown",
      "source": [
        "Finally I can divide this website into **tokens**, then into just **lowercase words** - it will be easier to analyse!\n",
        "\n",
        "**Also!** Let's not forget about removing _stopwords_ - they are unnecesasry when it comes to lexical analysis, so we will just remove them from our list of words."
      ],
      "metadata": {
        "id": "Z3SkxPLQrpcE"
      }
    },
    {
      "cell_type": "code",
      "source": [
        "#tokenizing\n",
        "all_tokens1 = nltk.word_tokenize(text1)\n",
        "\n",
        "#check\n",
        "#print(all_tokens1)\n",
        "\n",
        "#removing punctuation, so we only have words and adding lowercase words\n",
        "stop_words = [\n",
        "    \"a\", \"an\", \"the\", \"and\", \"or\", \"but\", \"if\", \"while\", \"is\", \"are\",\n",
        "    \"was\", \"were\", \"be\", \"been\", \"being\", \"to\", \"of\", \"in\", \"that\", \"it\",\n",
        "    \"for\", \"on\", \"with\", \"as\", \"by\", \"at\", \"from\", \"this\", \"which\", \"you\",\n",
        "    \"your\", \"I\", \"we\", \"they\", \"he\", \"she\", \"him\", \"her\", \"his\", \"their\",\n",
        "    \"my\", \"mine\", \"our\", \"ours\", \"not\", \"so\", \"can\", \"will\", \"just\"\n",
        "]\n",
        "\n",
        "words1 = []\n",
        "for t in all_tokens1:\n",
        "  if t.isalpha():\n",
        "    word = t.lower()\n",
        "    if word not in stop_words:\n",
        "      words1.append(word)\n",
        "\n",
        "#check\n",
        "#print(words1)"
      ],
      "metadata": {
        "id": "Ye_txK0ZomQ0"
      },
      "execution_count": 4,
      "outputs": []
    },
    {
      "cell_type": "markdown",
      "source": [
        "Next, using rather simple code, I can extract **the most common word** and how many times it occured in the text."
      ],
      "metadata": {
        "id": "DOW-boBbhStK"
      }
    },
    {
      "cell_type": "code",
      "source": [
        "word_count1 = {}\n",
        "for w in words1:\n",
        "  if w in word_count1:\n",
        "    word_count1[w] += 1\n",
        "  else:\n",
        "    word_count1[w] = 1\n",
        "\n",
        "#check\n",
        "#print(word_count1)\n",
        "\n",
        "most_frequent_word1 = \"\"\n",
        "max_count1 = 0\n",
        "\n",
        "for word, count in word_count1.items():\n",
        "    if count > max_count1:\n",
        "        most_frequent_word1 = word\n",
        "        max_count1 = count\n",
        "print(\"The most frequent word is:\", most_frequent_word1)\n",
        "\n",
        "most_occuring_num1 = max(word_count1.values())\n",
        "\n",
        "print(\"And it occurs\", most_occuring_num1, \"times\")"
      ],
      "metadata": {
        "colab": {
          "base_uri": "https://localhost:8080/"
        },
        "id": "gmGJUKlEsZnZ",
        "outputId": "95458b9f-51e7-4f9c-a88f-4a6de412cd90"
      },
      "execution_count": 6,
      "outputs": [
        {
          "output_type": "stream",
          "name": "stdout",
          "text": [
            "The most frequent word is: ai\n",
            "And it occurs 227 times\n"
          ]
        }
      ]
    },
    {
      "cell_type": "markdown",
      "source": [
        "My code is rather simple, but works well! However, there are better ways to count all of the words in the text. For this we need **Counter**. Let's import it!"
      ],
      "metadata": {
        "id": "Um24y7HghiqI"
      }
    },
    {
      "cell_type": "code",
      "source": [
        "from collections import Counter"
      ],
      "metadata": {
        "id": "0mE6Wse8pXfi"
      },
      "execution_count": 7,
      "outputs": []
    },
    {
      "cell_type": "markdown",
      "source": [
        "Counter, as the name suggests, counts all the words in a given list and puts them in order, but for this analysis, let's just focus on the first 50."
      ],
      "metadata": {
        "id": "RAkY_VBXhzy3"
      }
    },
    {
      "cell_type": "code",
      "source": [
        "# counting the words\n",
        "c1 = Counter(words1)\n",
        "\n",
        "# 50 most common\n",
        "c1.most_common()[0:50]"
      ],
      "metadata": {
        "id": "p-Es9fQevkcZ",
        "colab": {
          "base_uri": "https://localhost:8080/"
        },
        "outputId": "1c3fe9a8-ca37-49f5-c594-847c6c3631ad"
      },
      "execution_count": 8,
      "outputs": [
        {
          "output_type": "execute_result",
          "data": {
            "text/plain": [
              "[('ai', 227),\n",
              " ('intelligence', 63),\n",
              " ('such', 59),\n",
              " ('learning', 59),\n",
              " ('used', 58),\n",
              " ('data', 56),\n",
              " ('have', 52),\n",
              " ('artificial', 42),\n",
              " ('machine', 41),\n",
              " ('has', 39),\n",
              " ('other', 38),\n",
              " ('research', 35),\n",
              " ('human', 34),\n",
              " ('use', 34),\n",
              " ('these', 34),\n",
              " ('problems', 34),\n",
              " ('models', 33),\n",
              " ('many', 32),\n",
              " ('may', 31),\n",
              " ('power', 30),\n",
              " ('networks', 27),\n",
              " ('problem', 27),\n",
              " ('most', 27),\n",
              " ('neural', 26),\n",
              " ('some', 26),\n",
              " ('reasoning', 25),\n",
              " ('search', 25),\n",
              " ('knowledge', 25),\n",
              " ('about', 25),\n",
              " ('also', 24),\n",
              " ('more', 23),\n",
              " ('systems', 22),\n",
              " ('what', 22),\n",
              " ('applications', 21),\n",
              " ('including', 21),\n",
              " ('deep', 21),\n",
              " ('researchers', 20),\n",
              " ('there', 20),\n",
              " ('would', 20),\n",
              " ('than', 20),\n",
              " ('google', 19),\n",
              " ('generative', 19),\n",
              " ('language', 19),\n",
              " ('make', 19),\n",
              " ('include', 18),\n",
              " ('large', 18),\n",
              " ('using', 18),\n",
              " ('us', 18),\n",
              " ('nuclear', 18),\n",
              " ('field', 17)]"
            ]
          },
          "metadata": {},
          "execution_count": 8
        }
      ]
    },
    {
      "cell_type": "markdown",
      "source": [
        "Here I inlcude the words on a chart - it is much better to look at!"
      ],
      "metadata": {
        "id": "robAsfzTAr9Z"
      }
    },
    {
      "cell_type": "code",
      "source": [
        "wiki_words = ['ai', 'intelligence', 'such', 'learning', 'used', 'data', 'have', 'artificial', 'machine', 'has']\n",
        "wiki_counts = [227, 63, 60, 59, 58, 56, 52, 42, 41, 38]\n",
        "\n",
        "plt.figure(figsize=(10, 6))\n",
        "plt.bar(wiki_words, wiki_counts, color='skyblue')\n",
        "plt.title('Top 10 Most Frequent Words in Wikipedia Article on AI')\n",
        "plt.xlabel('Words')\n",
        "plt.ylabel('Frequency')\n",
        "plt.xticks(rotation=45)\n",
        "plt.tight_layout()\n",
        "plt.show()"
      ],
      "metadata": {
        "colab": {
          "base_uri": "https://localhost:8080/",
          "height": 402
        },
        "id": "opAJWgSxAm4U",
        "outputId": "e17d807f-4361-4d18-80af-c91dc6618392"
      },
      "execution_count": 12,
      "outputs": [
        {
          "output_type": "display_data",
          "data": {
            "text/plain": [
              "<Figure size 1000x600 with 1 Axes>"
            ],
            "image/png": "[encoded data removed]"
          },
          "metadata": {}
        }
      ]
    },
    {
      "cell_type": "markdown",
      "source": [
        "Great! Now let's check _Google Cloud_."
      ],
      "metadata": {
        "id": "QEDWvPOkplPv"
      }
    },
    {
      "cell_type": "markdown",
      "source": [
        "##<font color = 'lightblue'> _Google Cloud_"
      ],
      "metadata": {
        "id": "IJdBd7sTixnY"
      }
    },
    {
      "cell_type": "markdown",
      "source": [
        "Here I am going through exactly the same processes, so there's no need to explain it all again. Let's move quickly to the findings."
      ],
      "metadata": {
        "id": "kX82eyTZi_ut"
      }
    },
    {
      "cell_type": "code",
      "source": [
        "#Cooking the soup\n",
        "page2 = requests.get(\"https://cloud.google.com/learn/what-is-artificial-intelligence\")\n",
        "\n",
        "\n",
        "soup2 = BeautifulSoup(page2.content, 'html.parser')\n",
        "\n",
        "#Extracting paragraphs\n",
        "paras2 = soup2.find_all('p')\n",
        "\n",
        "#Cleaning the text\n",
        "only_text2 = []\n",
        "for el in paras2:\n",
        "  if len(el.getText().strip()) > 0:\n",
        "    only_text2.append(el.getText())\n",
        "\n",
        "text2 = \" \".join(only_text2)"
      ],
      "metadata": {
        "id": "MhEVJaZXpoGj"
      },
      "execution_count": 13,
      "outputs": []
    },
    {
      "cell_type": "code",
      "source": [
        "#tokenizing\n",
        "all_tokens2 = nltk.word_tokenize(text2)\n",
        "\n",
        "#check\n",
        "#print(all_tokens2)\n",
        "\n",
        "#removing punctuation, so we only have words and adding lowercase words\n",
        "words2 = []\n",
        "stop_words = [\n",
        "    \"a\", \"an\", \"the\", \"and\", \"or\", \"but\", \"if\", \"while\", \"is\", \"are\",\n",
        "    \"was\", \"were\", \"be\", \"been\", \"being\", \"to\", \"of\", \"in\", \"that\", \"it\",\n",
        "    \"for\", \"on\", \"with\", \"as\", \"by\", \"at\", \"from\", \"this\", \"which\", \"you\",\n",
        "    \"your\", \"I\", \"we\", \"they\", \"he\", \"she\", \"him\", \"her\", \"his\", \"their\",\n",
        "    \"my\", \"mine\", \"our\", \"ours\", \"not\", \"so\", \"can\", \"will\", \"just\"\n",
        "]\n",
        "for t in all_tokens2:\n",
        "  if t.isalpha():\n",
        "    word = t.lower()\n",
        "    if word not in stop_words:\n",
        "      words2.append(word)\n",
        "\n",
        "#check\n",
        "#print(words2)"
      ],
      "metadata": {
        "id": "ofAqY_oIp3Wm"
      },
      "execution_count": 14,
      "outputs": []
    },
    {
      "cell_type": "code",
      "source": [
        "word_count2 = {}\n",
        "\n",
        "for w in words2:\n",
        "  if w in word_count2:\n",
        "    word_count2[w] += 1\n",
        "  else:\n",
        "    word_count2[w] = 1\n",
        "\n",
        "#check\n",
        "#print(word_count2)\n",
        "\n",
        "most_frequent_word2 = \"\"\n",
        "max_count2 = 0\n",
        "\n",
        "for word, count in word_count2.items():\n",
        "    if count > max_count2:\n",
        "        most_frequent_word2 = word\n",
        "        max_count2 = count\n",
        "print(\"The most frequent word is:\", most_frequent_word2)\n",
        "\n",
        "most_occuring_num2 = max(word_count2.values())\n",
        "\n",
        "print(\"And it occurs\", most_occuring_num2, \"times\")"
      ],
      "metadata": {
        "colab": {
          "base_uri": "https://localhost:8080/"
        },
        "id": "xhES4gTiqI9G",
        "outputId": "4969b91c-e239-40e0-86d3-931138990e8b"
      },
      "execution_count": 15,
      "outputs": [
        {
          "output_type": "stream",
          "name": "stdout",
          "text": [
            "The most frequent word is: data\n",
            "And it occurs 32 times\n"
          ]
        }
      ]
    },
    {
      "cell_type": "markdown",
      "source": [
        "**Here are our most common words!!**"
      ],
      "metadata": {
        "id": "VPjN0blCjV8C"
      }
    },
    {
      "cell_type": "code",
      "source": [
        "# counting the words\n",
        "c2 = Counter(words2)\n",
        "\n",
        "# 50 most common\n",
        "c2.most_common()[0:50]"
      ],
      "metadata": {
        "colab": {
          "base_uri": "https://localhost:8080/"
        },
        "id": "IrFF6XKsqtOR",
        "outputId": "57e688f9-32de-40bd-9575-d62dce950c81"
      },
      "execution_count": 16,
      "outputs": [
        {
          "output_type": "execute_result",
          "data": {
            "text/plain": [
              "[('data', 32),\n",
              " ('ai', 31),\n",
              " ('neural', 22),\n",
              " ('learning', 21),\n",
              " ('networks', 18),\n",
              " ('artificial', 17),\n",
              " ('intelligence', 13),\n",
              " ('human', 13),\n",
              " ('used', 13),\n",
              " ('machine', 11),\n",
              " ('layers', 10),\n",
              " ('network', 10),\n",
              " ('what', 9),\n",
              " ('more', 8),\n",
              " ('use', 8),\n",
              " ('often', 8),\n",
              " ('layer', 8),\n",
              " ('feedforward', 7),\n",
              " ('perform', 6),\n",
              " ('recognition', 6),\n",
              " ('analytics', 6),\n",
              " ('deep', 6),\n",
              " ('through', 6),\n",
              " ('tasks', 6),\n",
              " ('time', 6),\n",
              " ('output', 6),\n",
              " ('language', 5),\n",
              " ('make', 5),\n",
              " ('into', 5),\n",
              " ('would', 5),\n",
              " ('based', 5),\n",
              " ('patterns', 5),\n",
              " ('may', 5),\n",
              " ('algorithms', 5),\n",
              " ('instance', 5),\n",
              " ('training', 5),\n",
              " ('algorithm', 5),\n",
              " ('when', 5),\n",
              " ('model', 5),\n",
              " ('simple', 5),\n",
              " ('one', 5),\n",
              " ('other', 5),\n",
              " ('image', 5),\n",
              " ('analyze', 4),\n",
              " ('modern', 4),\n",
              " ('images', 4),\n",
              " ('free', 4),\n",
              " ('google', 4),\n",
              " ('cloud', 4),\n",
              " ('learn', 4)]"
            ]
          },
          "metadata": {},
          "execution_count": 16
        }
      ]
    },
    {
      "cell_type": "code",
      "source": [
        "cloud_words = ['data', 'ai', 'neural', 'learning', 'networks', 'artificial', 'intelligence', 'human', 'used', 'machine']\n",
        "cloud_counts = [32, 31, 22, 21, 18, 17, 13, 13, 13, 11]\n",
        "\n",
        "plt.figure(figsize=(10, 6))\n",
        "plt.bar(cloud_words, cloud_counts, color='lightcoral')\n",
        "plt.title('Top 10 Most Frequent Words in Google Cloud Article on AI')\n",
        "plt.xlabel('Words')\n",
        "plt.ylabel('Frequency')\n",
        "plt.xticks(rotation=45)\n",
        "plt.tight_layout()\n",
        "plt.show()"
      ],
      "metadata": {
        "colab": {
          "base_uri": "https://localhost:8080/",
          "height": 402
        },
        "id": "mQRwkCm8A8rx",
        "outputId": "b3a82308-fd81-47e5-e214-45f28429f352"
      },
      "execution_count": 17,
      "outputs": [
        {
          "output_type": "display_data",
          "data": {
            "text/plain": [
              "<Figure size 1000x600 with 1 Axes>"
            ],
            "image/png": "[encoded data removed]"
          },
          "metadata": {}
        }
      ]
    },
    {
      "cell_type": "markdown",
      "source": [
        "##<font color = 'lightblue'> Analysis"
      ],
      "metadata": {
        "id": "fVnu8WzDjdua"
      }
    },
    {
      "cell_type": "markdown",
      "source": [
        "### Some Observations\n",
        "\n",
        "In _Wikipedia_, the most frequent word is **\"AI\"** (227 times), showing that the article focuses on the term itself. Other frequent words include **\"intelligence\"**, **\"learning\"**, **\"used\"**, and **\"data\"** — pointing to a technical and academic focus.\n",
        "\n",
        "In _Google Cloud_, the top word is **\"data\"** (32 times), followed by **\"AI\"** (31 times) and **\"neural\"** (22 times). _Google Cloud_ focuses more on the **conceptual building blocks** of AI, such as **\"data\"**, **\"networks\"**, **\"layers\"**, and **\"algorithms\"**, indicating a structured breakdown of the topic.\n",
        "\n"
      ],
      "metadata": {
        "id": "eW2TV_bXj2Q0"
      }
    },
    {
      "cell_type": "markdown",
      "source": [
        "### Limitations\n",
        "One important limitation of this comparison is that the two articles differ significantly in length. The _Wikipedia_ article on AI is much longer and more detailed than the _Google Cloud_ entry, which is more concise and structured.\n",
        "\n",
        "Because of this, some of the observed differences in word frequency may be influenced simply by **the length** of each article, and so each of them had to explore different aspects of the topic. For example, Wikipedia might mention more subfields, real-world applications, or research areas simply because it includes more content overall.\n",
        "\n",
        "A more accurate comparison would involve e.g. comparing articles of similar length."
      ],
      "metadata": {
        "id": "EPLRsb8UlixY"
      }
    },
    {
      "cell_type": "markdown",
      "source": [
        "## <font color = 'lightblue'> Conclusions\n"
      ],
      "metadata": {
        "id": "NsRr3whRjgPB"
      }
    },
    {
      "cell_type": "markdown",
      "source": [
        "This simple linguistic comparison shows that different sources use language in distinct ways when writing about the same topic — in this case, Artificial Intelligence.\n",
        "\n",
        "_Wikipedia_ emphasizes terms like \"AI\", \"intelligence\", \"learning\", and \"models\", suggesting a broad and technical overview that touches on many subfields and applications.\n",
        "\n",
        "_Google Cloud_ on the other hand, highlights words like \"data\", \"neural\", \"layers\", and \"algorithms\", pointing to a more structured, educational explanation of core concepts.\n",
        "\n",
        "While both articles cover similar topics, their vocabulary suggests different purposes: _Wikipedia_ aims to present wide range of aspects needed to be taken into consideration, while _Google Cloud_ focuses on clarity and foundational understanding.\n"
      ],
      "metadata": {
        "id": "I051YtcDlZnz"
      }
    },
    {
      "cell_type": "markdown",
      "source": [
        "## <font color = 'lightblue'> Sources"
      ],
      "metadata": {
        "id": "-rKXXI10BAxc"
      }
    },
    {
      "cell_type": "markdown",
      "source": [
        "Wikipedia contributors. 2024. _Artificial intelligence_. Retrieved June 16, 2025 (https://en.wikipedia.org/wiki/Artificial_intelligence).\n",
        "\n",
        "Google Cloud. n.d. _What is Artificial Intelligence?_ Retrieved June 16, 2025 (https://cloud.google.com/learn/what-is-artificial-intelligence).\n"
      ],
      "metadata": {
        "id": "-mpDNGfGIW0U"
      }
    }
  ]
}